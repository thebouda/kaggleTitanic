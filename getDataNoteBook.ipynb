{
 "cells": [
  {
   "cell_type": "code",
   "execution_count": 1,
   "source": [
    "import pandas as pd\r\n",
    "import matplotlib.pyplot as plot\r\n",
    "import sklearn.preprocessing as skpre\r\n",
    "from sklearn.linear_model import LogisticRegression as LR\r\n",
    "import scipy\r\n",
    "from sklearn.feature_selection import RFE\r\n",
    "import statsmodels.api as sm\r\n",
    "import numpy \r\n",
    "from sklearn.model_selection import train_test_split as ttt\r\n",
    "\r\n"
   ],
   "outputs": [],
   "metadata": {}
  },
  {
   "cell_type": "code",
   "execution_count": 2,
   "source": [
    "testPath = \"Data/test.csv\"\r\n",
    "trainPath = \"Data/train.csv\"\r\n",
    "genderSubmissionPath = \"Data/gender_submission.csv\"\r\n"
   ],
   "outputs": [],
   "metadata": {}
  },
  {
   "cell_type": "code",
   "execution_count": 3,
   "source": [
    "testPD = pd.read_csv(testPath)\r\n",
    "trainPD = pd.read_csv(trainPath)\r\n",
    "genderSubPD = pd.read_csv(genderSubmissionPath)\r\n"
   ],
   "outputs": [],
   "metadata": {}
  },
  {
   "cell_type": "code",
   "execution_count": null,
   "source": [
    "# get the info about the data \r\n",
    "# print(trainPD.max())\r\n",
    "# print(trainPD.min())\r\n",
    "# trainPD['PassengerId'].plot.density()\r\n",
    "# plot.hist(trainPD['Age'])\r\n",
    "# plot.hist(trainPD['Fare'])\r\n",
    "# plot.hist(trainPD['Sex'])"
   ],
   "outputs": [],
   "metadata": {}
  },
  {
   "cell_type": "code",
   "execution_count": 4,
   "source": [
    "# performing pca\r\n",
    "# get the features\r\n",
    "features = []\r\n",
    "for  cols in trainPD.columns:\r\n",
    "    # features[index]= cols\r\n",
    "    if cols != \"Survived\":\r\n",
    "        features.append(cols)\r\n",
    "# first step: separate from data and output\r\n",
    "X =  trainPD.loc[:,features]\r\n",
    "Y = trainPD.loc[:,['Survived']]\r\n",
    "\r\n",
    "# no performing pca as first we should know if pca can be used with discrete and continuous variables at the same time\r\n"
   ],
   "outputs": [],
   "metadata": {}
  },
  {
   "cell_type": "code",
   "execution_count": null,
   "source": [
    "# data that can be standardize\r\n",
    "# leave this like thi\r\n",
    "featureStand = ['Age','SibSp','Parch','Fare']\r\n",
    "xCont = X.loc[:,featureStand]\r\n",
    "print(xCont.head(3))\r\n",
    "\r\n",
    "# standardize that data\r\n",
    "print(X.loc[:,xCont])\r\n",
    "# xStand = skpre.StandardScaler.fit_transform(X.loc[:,xCont])\r\n",
    "# print(xStand.head(3))\r\n"
   ],
   "outputs": [],
   "metadata": {}
  },
  {
   "cell_type": "code",
   "execution_count": 66,
   "source": [
    "# compare values for different outputs\r\n",
    "# check how many were dead and alive\r\n",
    "\r\n",
    "trainPD['Survived'].value_counts()\r\n",
    "# dead 549 alive 342\r\n",
    "# getting an insight on the data\r\n",
    "trainPD.groupby('Survived').mean()\r\n",
    "# MEAN ANALYSIS\r\n",
    "# the people that survived had a higher fare (48$) versus those who died (22$)\r\n",
    "# the same thing can be taken from the pclass variable, as a mean  for those who survived had 1.95 and those \r\n",
    "# who died had a 2.5 . This implies (for now) that the lower income class had more probability to die\r\n",
    "# concerning the age, it's somehow similar 30(1) versus 28 (0)\r\n",
    "# SibSp, suggests that the lower income class had more family members\r\n",
    "# Parch suggests that more children survived as it's lower to the ones who survivied, which means those didn't have husband or wife\r\n",
    "\r\n",
    "trainPD.groupby('Pclass').mean() # interesting to check the differences bteween classes\r\n",
    "# difference in the ones who urvived and the different classes \r\n",
    "pd.crosstab(trainPD.Pclass,trainPD.Survived).plot(kind='bar')\r\n",
    "\r\n",
    "# different in family members between classes\r\n",
    "table = pd.crosstab(trainPD.SibSp,trainPD.Pclass)\r\n",
    "table.div(table.sum(1).astype(float), axis= 0 ).plot(kind = 'bar',stacked =True)\r\n"
   ],
   "outputs": [
    {
     "output_type": "execute_result",
     "data": {
      "text/plain": [
       "<AxesSubplot:xlabel='SibSp'>"
      ]
     },
     "metadata": {},
     "execution_count": 66
    },
    {
     "output_type": "display_data",
     "data": {
      "text/plain": [
       "<Figure size 432x288 with 1 Axes>"
      ],
      "image/png": "[encoded data removed]"
     },
     "metadata": {
      "needs_background": "light"
     }
    }
   ],
   "metadata": {}
  },
  {
   "cell_type": "code",
   "execution_count": 8,
   "source": [
    "logreg = LR()\r\n",
    "# rfe = RFE(logreg)\r\n",
    "\r\n",
    "\r\n",
    "# change some variables that a are readable\r\n",
    "# if male then sex = 1 , else = 0\r\n",
    "# we remove the variable of the name, cabin, ticket \r\n",
    "# we change the embarque cabin from letters to numbers (for now we discard the data)\r\n",
    "newX = trainPD.loc[:,['PassengerId','Survived','Pclass','Sex','Age','SibSp','Parch','Fare']]\r\n",
    "newX['Sex'].replace({'female':'0','male':'1'},inplace=True)\r\n",
    "# rfe = rfe.fit(newX,Y)"
   ],
   "outputs": [],
   "metadata": {}
  },
  {
   "cell_type": "code",
   "execution_count": null,
   "source": [
    "# we check for the variables type\r\n",
    "# print(newX.dtypes)\r\n",
    "# the one form the sex is an object, we have to cast it\r\n",
    "newX['Sex'] = pd.to_numeric(newX['Sex'])\r\n",
    "\r\n",
    "# logit_model =sm.Logit(Y,newX)\r\n",
    "# result = logit_model.fit()\r\n",
    "# print(result.summary2())\r\n",
    "# check where are the nan or null values by column\r\n",
    "print(newX['Fare'].isnull().values.any())\r\n",
    "# nan values in  Age\r\n",
    "print(newX.isnull().sum()) # we proceed by deleting the values and see how it goes becausae there are \r\n",
    "# we remove the values of nan only in the age\r\n",
    "trainPD.dropna(subset=['Age'],inplace=True) "
   ],
   "outputs": [],
   "metadata": {}
  },
  {
   "cell_type": "code",
   "execution_count": 11,
   "source": [
    "# once the data is cleaned we perform the same steps as before to get the data ready\r\n",
    "cleanX = trainPD.loc[:,['PassengerId','Survived','Pclass','Sex','Age','SibSp','Parch','Fare']]\r\n",
    "cleanX['Sex'].replace({'female':'0','male':'1'},inplace=True) # the 0 turns into a singular matrix\r\n",
    "cleanY = trainPD.loc[:,['Survived']]\r\n",
    "cleanX['Sex'] = pd.to_numeric(cleanX['Sex'])"
   ],
   "outputs": [],
   "metadata": {}
  },
  {
   "cell_type": "code",
   "execution_count": null,
   "source": [
    "# we get to test the model\r\n",
    "logit_model =sm.Logit(cleanY,cleanX)\r\n",
    "result = logit_model.fit()\r\n",
    "print(result.summary2())\r\n",
    "# turns out the p values are 0 so we keep every variable, just the sibsp has a 0.01 , still is small enough to keep it\r\n"
   ],
   "outputs": [],
   "metadata": {}
  },
  {
   "cell_type": "code",
   "execution_count": null,
   "source": [
    "x_Train,x_Test,y_Train,y_Test = ttt(cleanX,cleanY,test_size=0.3,random_state= 0)\r\n",
    "logreg =LR()\r\n",
    "logreg.fit(x_Train,y_Train)\r\n",
    "y_pred =logreg.predict(x_Test)\r\n",
    "# print('accuracy: {:.2f}'.format(logreg.score(x_Test,y_Test)))\r\n",
    "# print(numpy.array(y_pred == y_Test[:]).sum())\r\n",
    "# print(numpy.array(y_Test).reshape(y_Test.size)) # change dimensions\r\n",
    "# print(numpy.array(y_pred))\r\n",
    "\r\n",
    "accuracy = numpy.array(y_Test).reshape(y_Test.size) == numpy.array(y_pred)\r\n",
    "print(accuracy)"
   ],
   "outputs": [],
   "metadata": {}
  },
  {
   "cell_type": "code",
   "execution_count": null,
   "source": [
    "# check how the model wprls with the real data\r\n",
    "# clean input test set\r\n",
    "testPD = pd.read_csv(testPath)\r\n",
    "\r\n",
    "# merge the data with the passenger id\r\n",
    "wholeXTest = pd.merge(genderSubPD,testPD,on = 'PassengerId')\r\n"
   ],
   "outputs": [],
   "metadata": {}
  },
  {
   "cell_type": "code",
   "execution_count": 27,
   "source": [
    "# clean data \r\n",
    "\r\n",
    "wholeXTest.dropna(subset=['Age'],inplace=True) \r\n",
    "wholeXTest.dropna(subset=['Fare'],inplace=True) \r\n",
    "\r\n",
    "cleanXTest = wholeXTest.loc[:,['PassengerId','Survived','Pclass','Sex','Age','SibSp','Parch','Fare']]\r\n",
    "cleanXTest['Sex'].replace({'female':'0','male':'1'},inplace=True) # the 0 turns into a singular matrix\r\n",
    "cleanYTest = wholeXTest.loc[:,['Survived']]\r\n",
    "cleanXTest['Sex'] = pd.to_numeric(cleanXTest['Sex'])\r\n",
    "\r\n",
    "\r\n"
   ],
   "outputs": [],
   "metadata": {}
  },
  {
   "cell_type": "code",
   "execution_count": null,
   "source": [
    "# try the model\r\n",
    "y_pred2 =logreg.predict(cleanXTest)\r\n",
    "# print(y_pred2.shape)\r\n",
    "# print(numpy.array(cleanYTest).reshape(cleanYTest.size).shape)\r\n",
    "y_exp_reshaped = numpy.array(cleanYTest).reshape(cleanYTest.size)\r\n",
    "accuracy = numpy.array(y_exp_reshaped == numpy.array(y_pred2))\r\n",
    "print(accuracy)\r\n",
    "# print(y_pred2)\r\n",
    "# print(cleanYTest)\r\n"
   ],
   "outputs": [],
   "metadata": {}
  }
 ],
 "metadata": {
  "orig_nbformat": 4,
  "language_info": {
   "name": "python",
   "version": "3.9.4",
   "mimetype": "text/x-python",
   "codemirror_mode": {
    "name": "ipython",
    "version": 3
   },
   "pygments_lexer": "ipython3",
   "nbconvert_exporter": "python",
   "file_extension": ".py"
  },
  "kernelspec": {
   "name": "python3",
   "display_name": "Python 3.9.4 64-bit ('venv': venv)"
  },
  "interpreter": {
   "hash": "15abced4188db35c83b661c0f4def9b023fcfdcf8f2071ac5896473ee4691a96"
  }
 },
 "nbformat": 4,
 "nbformat_minor": 2
}
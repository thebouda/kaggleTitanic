{
 "cells": [
  {
   "cell_type": "code",
   "execution_count": 50,
   "source": [
    "\r\n",
    "import pandas as pd\r\n",
    "import matplotlib.pyplot as plot\r\n",
    "import sklearn.preprocessing as skpre\r\n",
    "from sklearn.linear_model import LogisticRegression as LR\r\n",
    "import scipy"
   ],
   "outputs": [],
   "metadata": {}
  },
  {
   "cell_type": "code",
   "execution_count": 51,
   "source": [
    "testPath = \"Data/test.csv\"\r\n",
    "trainPath = \"Data/train.csv\"\r\n",
    "genderSubmissionPath = \"Data/gender_submission.csv\"\r\n"
   ],
   "outputs": [],
   "metadata": {}
  },
  {
   "cell_type": "code",
   "execution_count": 52,
   "source": [
    "testPD = pd.read_csv(testPath)\r\n",
    "trainPD = pd.read_csv(trainPath)\r\n",
    "genderSubPD = pd.read_csv(genderSubmissionPath)\r\n"
   ],
   "outputs": [],
   "metadata": {}
  },
  {
   "cell_type": "code",
   "execution_count": null,
   "source": [
    "# get the info about the data \r\n",
    "# print(trainPD.max())\r\n",
    "# print(trainPD.min())\r\n",
    "# trainPD['PassengerId'].plot.density()\r\n",
    "# plot.hist(trainPD['Age'])\r\n",
    "# plot.hist(trainPD['Fare'])\r\n",
    "# plot.hist(trainPD['Sex'])"
   ],
   "outputs": [],
   "metadata": {}
  },
  {
   "cell_type": "code",
   "execution_count": 53,
   "source": [
    "# performing pca\r\n",
    "# get the features\r\n",
    "features = []\r\n",
    "for  cols in trainPD.columns:\r\n",
    "    # features[index]= cols\r\n",
    "    if cols != \"Survived\":\r\n",
    "        features.append(cols)\r\n",
    "# first step: separate from data and output\r\n",
    "X =  trainPD.loc[:,features]\r\n",
    "Y = trainPD.loc[:,['Survived']]\r\n",
    "\r\n",
    "# no performing pca as first we should know if pca can be used with discrete and continuous variables at the same time\r\n"
   ],
   "outputs": [],
   "metadata": {}
  },
  {
   "cell_type": "code",
   "execution_count": null,
   "source": [
    "# data that can be standardize\r\n",
    "# leave this like thi\r\n",
    "featureStand = ['Age','SibSp','Parch','Fare']\r\n",
    "xCont = X.loc[:,featureStand]\r\n",
    "print(xCont.head(3))\r\n",
    "\r\n",
    "# standardize that data\r\n",
    "print(X.loc[:,xCont])\r\n",
    "# xStand = skpre.StandardScaler.fit_transform(X.loc[:,xCont])\r\n",
    "# print(xStand.head(3))\r\n"
   ],
   "outputs": [],
   "metadata": {}
  },
  {
   "cell_type": "code",
   "execution_count": 58,
   "source": [
    "# compare values for different outputs\r\n",
    "# check how many were dead and alive\r\n",
    "\r\n",
    "trainPD['Survived'].value_counts()\r\n",
    "# dead 549 alive 342\r\n",
    "# getting an insight on the data\r\n",
    "trainPD.groupby('Survived').mean()\r\n",
    "# MEAN ANALYSIS\r\n",
    "# the people that survived had a higher fare (48$) versus those who died (22$)\r\n",
    "# the same thing can be taken from the pclass variable, as a mean  for those who survived had 1.95 and those \r\n",
    "# who died had a 2.5 . This implies (for now) that the lower income class had more probability to die\r\n",
    "# concerning the age, it's somehow similar 30(1) versus 28 (0)\r\n",
    "# SibSp, suggests that the lower income class had more family members\r\n",
    "# Parch suggests that more children survived as it's lower to the ones who survivied, which means those didn't have husband or wife\r\n",
    "\r\n",
    "trainPD.groupby('Pclass').mean() # interesting to check the differences bteween classses \r\n",
    "\r\n"
   ],
   "outputs": [
    {
     "output_type": "execute_result",
     "data": {
      "text/plain": [
       "        PassengerId  Survived        Age     SibSp     Parch       Fare\n",
       "Pclass                                                                 \n",
       "1        461.597222  0.629630  38.233441  0.416667  0.356481  84.154687\n",
       "2        445.956522  0.472826  29.877630  0.402174  0.380435  20.662183\n",
       "3        439.154786  0.242363  25.140620  0.615071  0.393075  13.675550"
      ],
      "text/html": [
       "<div>\n",
       "<style scoped>\n",
       "    .dataframe tbody tr th:only-of-type {\n",
       "        vertical-align: middle;\n",
       "    }\n",
       "\n",
       "    .dataframe tbody tr th {\n",
       "        vertical-align: top;\n",
       "    }\n",
       "\n",
       "    .dataframe thead th {\n",
       "        text-align: right;\n",
       "    }\n",
       "</style>\n",
       "<table border=\"1\" class=\"dataframe\">\n",
       "  <thead>\n",
       "    <tr style=\"text-align: right;\">\n",
       "      <th></th>\n",
       "      <th>PassengerId</th>\n",
       "      <th>Survived</th>\n",
       "      <th>Age</th>\n",
       "      <th>SibSp</th>\n",
       "      <th>Parch</th>\n",
       "      <th>Fare</th>\n",
       "    </tr>\n",
       "    <tr>\n",
       "      <th>Pclass</th>\n",
       "      <th></th>\n",
       "      <th></th>\n",
       "      <th></th>\n",
       "      <th></th>\n",
       "      <th></th>\n",
       "      <th></th>\n",
       "    </tr>\n",
       "  </thead>\n",
       "  <tbody>\n",
       "    <tr>\n",
       "      <th>1</th>\n",
       "      <td>461.597222</td>\n",
       "      <td>0.629630</td>\n",
       "      <td>38.233441</td>\n",
       "      <td>0.416667</td>\n",
       "      <td>0.356481</td>\n",
       "      <td>84.154687</td>\n",
       "    </tr>\n",
       "    <tr>\n",
       "      <th>2</th>\n",
       "      <td>445.956522</td>\n",
       "      <td>0.472826</td>\n",
       "      <td>29.877630</td>\n",
       "      <td>0.402174</td>\n",
       "      <td>0.380435</td>\n",
       "      <td>20.662183</td>\n",
       "    </tr>\n",
       "    <tr>\n",
       "      <th>3</th>\n",
       "      <td>439.154786</td>\n",
       "      <td>0.242363</td>\n",
       "      <td>25.140620</td>\n",
       "      <td>0.615071</td>\n",
       "      <td>0.393075</td>\n",
       "      <td>13.675550</td>\n",
       "    </tr>\n",
       "  </tbody>\n",
       "</table>\n",
       "</div>"
      ]
     },
     "metadata": {},
     "execution_count": 58
    }
   ],
   "metadata": {}
  },
  {
   "cell_type": "code",
   "execution_count": null,
   "source": [],
   "outputs": [],
   "metadata": {}
  }
 ],
 "metadata": {
  "orig_nbformat": 4,
  "language_info": {
   "name": "python",
   "version": "3.9.4",
   "mimetype": "text/x-python",
   "codemirror_mode": {
    "name": "ipython",
    "version": 3
   },
   "pygments_lexer": "ipython3",
   "nbconvert_exporter": "python",
   "file_extension": ".py"
  },
  "kernelspec": {
   "name": "python3",
   "display_name": "Python 3.9.4 64-bit ('venv': venv)"
  },
  "interpreter": {
   "hash": "15abced4188db35c83b661c0f4def9b023fcfdcf8f2071ac5896473ee4691a96"
  }
 },
 "nbformat": 4,
 "nbformat_minor": 2
}
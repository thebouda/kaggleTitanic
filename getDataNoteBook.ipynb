{
 "cells": [
  {
   "cell_type": "code",
   "execution_count": 2,
   "source": [
    "import pandas as pd\r\n",
    "\r\n"
   ],
   "outputs": [],
   "metadata": {}
  },
  {
   "cell_type": "code",
   "execution_count": 3,
   "source": [
    "testPath = \"Data/test.csv\"\r\n",
    "trainPath = \"Data/train.csv\"\r\n",
    "genderSubmissionPath = \"Data/gender_submission.csv\"\r\n"
   ],
   "outputs": [],
   "metadata": {}
  },
  {
   "cell_type": "code",
   "execution_count": 5,
   "source": [
    "testPD = pd.read_csv(testPath)\r\n",
    "trainPD = pd.read_csv(trainPath)\r\n",
    "genderSubPD = pd.read_csv(genderSubmissionPath)\r\n"
   ],
   "outputs": [],
   "metadata": {}
  },
  {
   "cell_type": "code",
   "execution_count": null,
   "source": [
    "# get the info about the data "
   ],
   "outputs": [],
   "metadata": {}
  }
 ],
 "metadata": {
  "orig_nbformat": 4,
  "language_info": {
   "name": "python",
   "version": "3.9.4",
   "mimetype": "text/x-python",
   "codemirror_mode": {
    "name": "ipython",
    "version": 3
   },
   "pygments_lexer": "ipython3",
   "nbconvert_exporter": "python",
   "file_extension": ".py"
  },
  "kernelspec": {
   "name": "python3",
   "display_name": "Python 3.9.4 64-bit ('venv': venv)"
  },
  "interpreter": {
   "hash": "15abced4188db35c83b661c0f4def9b023fcfdcf8f2071ac5896473ee4691a96"
  }
 },
 "nbformat": 4,
 "nbformat_minor": 2
}
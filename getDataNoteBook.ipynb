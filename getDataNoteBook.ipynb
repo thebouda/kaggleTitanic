{
 "cells": [
  {
   "cell_type": "code",
   "execution_count": 21,
   "source": [
    "\r\n",
    "import pandas as pd\r\n",
    "import matplotlib.pyplot as plot\r\n",
    "import scipy"
   ],
   "outputs": [],
   "metadata": {}
  },
  {
   "cell_type": "code",
   "execution_count": 3,
   "source": [
    "testPath = \"Data/test.csv\"\r\n",
    "trainPath = \"Data/train.csv\"\r\n",
    "genderSubmissionPath = \"Data/gender_submission.csv\"\r\n"
   ],
   "outputs": [],
   "metadata": {}
  },
  {
   "cell_type": "code",
   "execution_count": 5,
   "source": [
    "testPD = pd.read_csv(testPath)\r\n",
    "trainPD = pd.read_csv(trainPath)\r\n",
    "genderSubPD = pd.read_csv(genderSubmissionPath)\r\n"
   ],
   "outputs": [],
   "metadata": {}
  },
  {
   "cell_type": "code",
   "execution_count": null,
   "source": [
    "# get the info about the data \r\n",
    "# print(trainPD.max())\r\n",
    "# print(trainPD.min())\r\n",
    "# trainPD['PassengerId'].plot.density()\r\n",
    "# plot.hist(trainPD['Age'])\r\n",
    "# plot.hist(trainPD['Fare'])\r\n",
    "# plot.hist(trainPD['Sex'])"
   ],
   "outputs": [],
   "metadata": {}
  },
  {
   "cell_type": "code",
   "execution_count": null,
   "source": [
    "# performing pca\r\n",
    "# get the features\r\n",
    "features = []\r\n",
    "for  cols in trainPD.columns:\r\n",
    "    # features[index]= cols\r\n",
    "    if cols != \"Survived\":\r\n",
    "        features.append(cols)\r\n",
    "# first step: separate from data and output\r\n",
    "X =  trainPD.loc[:,features]\r\n",
    "Y = trainPD.loc[:,['Survived']]"
   ],
   "outputs": [],
   "metadata": {}
  },
  {
   "cell_type": "code",
   "execution_count": null,
   "source": [],
   "outputs": [],
   "metadata": {}
  }
 ],
 "metadata": {
  "orig_nbformat": 4,
  "language_info": {
   "name": "python",
   "version": "3.9.4",
   "mimetype": "text/x-python",
   "codemirror_mode": {
    "name": "ipython",
    "version": 3
   },
   "pygments_lexer": "ipython3",
   "nbconvert_exporter": "python",
   "file_extension": ".py"
  },
  "kernelspec": {
   "name": "python3",
   "display_name": "Python 3.9.4 64-bit ('venv': venv)"
  },
  "interpreter": {
   "hash": "15abced4188db35c83b661c0f4def9b023fcfdcf8f2071ac5896473ee4691a96"
  }
 },
 "nbformat": 4,
 "nbformat_minor": 2
}
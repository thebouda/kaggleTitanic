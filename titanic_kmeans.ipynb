{
 "cells": [
  {
   "cell_type": "code",
   "execution_count": 3,
   "metadata": {},
   "outputs": [],
   "source": [
    "# import everything important so far\n",
    "import functions\n",
    "from sklearn.model_selection import train_test_split as ttt\n",
    "\n",
    "xTrain,xTest,yTrain,yTest = functions.getData()\n",
    "xSplit_Train,xSplit_Test,ySplit_Train,ySplit_Test = ttt(xTrain,yTrain,test_size=0.3,random_state= 0)\n"
   ]
  },
  {
   "cell_type": "code",
   "execution_count": 14,
   "metadata": {},
   "outputs": [
    {
     "data": {
      "text/plain": [
       "KMeans(n_clusters=6)"
      ]
     },
     "execution_count": 14,
     "metadata": {},
     "output_type": "execute_result"
    }
   ],
   "source": [
    "from sklearn.cluster import KMeans\n",
    "import numpy\n",
    "# we train the model\n",
    "# we choose linear kernel\n",
    "clf = KMeans(n_clusters = 6)\n",
    "yReshSplit_Test= numpy.array(ySplit_Train).ravel()\n",
    "clf.fit(xSplit_Train.values,yReshSplit_Test)\n"
   ]
  },
  {
   "cell_type": "code",
   "execution_count": 15,
   "metadata": {},
   "outputs": [
    {
     "name": "stdout",
     "output_type": "stream",
     "text": [
      "19.069767441860467\n"
     ]
    }
   ],
   "source": [
    "y_pred = clf.predict(xSplit_Test.values)\n",
    "\n",
    "test = numpy.array(numpy.array(ySplit_Test).ravel() == numpy.array(y_pred)).sum()\n",
    "accuracy  = test /y_pred.size *100\n",
    "print(accuracy)"
   ]
  },
  {
   "cell_type": "code",
   "execution_count": 24,
   "metadata": {},
   "outputs": [
    {
     "name": "stdout",
     "output_type": "stream",
     "text": [
      "59.53488372093023\n"
     ]
    }
   ],
   "source": [
    "# k nearest neighbors\n",
    "from sklearn.neighbors import KNeighborsClassifier  as knn\n",
    "clf2 = knn(n_neighbors= 4)\n",
    "clf2.fit(xSplit_Train.values,yReshSplit_Test)\n",
    "y_pred = clf2.predict(xSplit_Test.values)\n",
    "\n",
    "test = numpy.array(numpy.array(ySplit_Test).ravel() == numpy.array(y_pred)).sum()\n",
    "accuracy  = test /y_pred.size *100\n",
    "print(accuracy)"
   ]
  }
 ],
 "metadata": {
  "interpreter": {
   "hash": "15abced4188db35c83b661c0f4def9b023fcfdcf8f2071ac5896473ee4691a96"
  },
  "kernelspec": {
   "display_name": "Python 3.9.4 64-bit ('venv': venv)",
   "name": "python3"
  },
  "language_info": {
   "codemirror_mode": {
    "name": "ipython",
    "version": 3
   },
   "file_extension": ".py",
   "mimetype": "text/x-python",
   "name": "python",
   "nbconvert_exporter": "python",
   "pygments_lexer": "ipython3",
   "version": "3.9.4"
  },
  "orig_nbformat": 4
 },
 "nbformat": 4,
 "nbformat_minor": 2
}

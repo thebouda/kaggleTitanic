{
 "cells": [
  {
   "cell_type": "code",
   "execution_count": 2,
   "metadata": {},
   "outputs": [],
   "source": [
    "# from functions import getData,getAccuracy\n",
    "import functions\n",
    "from sklearn.model_selection import train_test_split as ttt\n",
    "\n",
    "\n",
    "xTrain,xTest,yTrain,yTest = functions.getData()\n",
    "xSplit_Train,xSplit_Test,ySplit_Train,ySplit_Test = ttt(xTrain,yTrain,test_size=0.3,random_state= 0)\n"
   ]
  },
  {
   "cell_type": "code",
   "execution_count": 6,
   "metadata": {},
   "outputs": [
    {
     "data": {
      "text/plain": [
       "SVC(kernel='linear')"
      ]
     },
     "execution_count": 6,
     "metadata": {},
     "output_type": "execute_result"
    }
   ],
   "source": [
    "from sklearn import svm\n",
    "import numpy\n",
    "# we train the model\n",
    "# we choose linear kernel\n",
    "clf = svm.SVC(kernel = 'linear')\n",
    "yReshSplit_Test= numpy.array(ySplit_Train).reshape(numpy.array(ySplit_Train).size)\n",
    "clf.fit(xSplit_Train,yReshSplit_Test)\n",
    "\n",
    "\n"
   ]
  },
  {
   "cell_type": "code",
   "execution_count": 12,
   "metadata": {},
   "outputs": [
    {
     "name": "stdout",
     "output_type": "stream",
     "text": [
      "79.06976744186046\n",
      "99.69788519637463\n"
     ]
    }
   ],
   "source": [
    "# try the model\n",
    "y_pred_linear = clf.predict(xSplit_Test)\n",
    "expected_Reshaped = numpy.array(ySplit_Test).reshape(ySplit_Test.size)\n",
    "test = numpy.array(expected_Reshaped == numpy.array(y_pred_linear)).sum()\n",
    "accuracy  = test /expected_Reshaped.size *100\n",
    "print(accuracy)\n",
    "# we get an 79% accuracy on the training set\n",
    "\n",
    "# try in the test dataset\n",
    "# 99 in the test, THIS IS WEIRD\n",
    "y_pred_linearTest = clf.predict(xTest)\n",
    "expected_ReshapedTest = numpy.array(yTest).reshape(yTest.size)\n",
    "test = numpy.array(expected_ReshapedTest == numpy.array(y_pred_linearTest)).sum()\n",
    "accuracy  = test /expected_ReshapedTest.size *100\n",
    "print(accuracy)\n",
    "\n"
   ]
  },
  {
   "cell_type": "code",
   "execution_count": null,
   "metadata": {},
   "outputs": [],
   "source": [
    "# try to graphically represent it\n"
   ]
  },
  {
   "cell_type": "code",
   "execution_count": 35,
   "metadata": {},
   "outputs": [
    {
     "name": "stdout",
     "output_type": "stream",
     "text": [
      "78.6046511627907\n"
     ]
    }
   ],
   "source": [
    "# gamma svm\n",
    "\n",
    "clfQuad = svm.SVC(C= 1e6, gamma =1e-6)\n",
    "yReshSplit_Test= numpy.array(ySplit_Train).reshape(numpy.array(ySplit_Train).size)\n",
    "clfQuad.fit(xSplit_Train,yReshSplit_Test)\n",
    "\n",
    "# try the model\n",
    "y_pred_linear = clfQuad.predict(xSplit_Test)\n",
    "expected_Reshaped = numpy.array(ySplit_Test).reshape(ySplit_Test.size)\n",
    "test = numpy.array(expected_Reshaped == numpy.array(y_pred_linear)).sum()\n",
    "accuracy  = test /expected_Reshaped.size *100\n",
    "print(accuracy)\n",
    "\n"
   ]
  }
 ],
 "metadata": {
  "interpreter": {
   "hash": "15abced4188db35c83b661c0f4def9b023fcfdcf8f2071ac5896473ee4691a96"
  },
  "kernelspec": {
   "display_name": "Python 3.9.4 64-bit ('venv': venv)",
   "name": "python3"
  },
  "language_info": {
   "codemirror_mode": {
    "name": "ipython",
    "version": 3
   },
   "file_extension": ".py",
   "mimetype": "text/x-python",
   "name": "python",
   "nbconvert_exporter": "python",
   "pygments_lexer": "ipython3",
   "version": "3.9.4"
  },
  "orig_nbformat": 4
 },
 "nbformat": 4,
 "nbformat_minor": 2
}

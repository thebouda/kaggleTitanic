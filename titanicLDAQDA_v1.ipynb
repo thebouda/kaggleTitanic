{
 "cells": [
  {
   "cell_type": "code",
   "execution_count": 13,
   "metadata": {},
   "outputs": [],
   "source": [
    "# from functions import getData,getAccuracy\n",
    "import functions\n",
    "\n",
    "xTrain,xTest,yTrain,yTest = functions.getData()"
   ]
  },
  {
   "cell_type": "code",
   "execution_count": 21,
   "metadata": {},
   "outputs": [
    {
     "name": "stdout",
     "output_type": "stream",
     "text": [
      "81.3953488372093\n",
      "94.25981873111783\n"
     ]
    }
   ],
   "source": [
    "from sklearn.discriminant_analysis import LinearDiscriminantAnalysis as LDA\n",
    "from sklearn.model_selection import train_test_split as ttt\n",
    "import numpy\n",
    "xSplit_Train,xSplit_Test,ySplit_Train,ySplit_Test = ttt(xTrain,yTrain,test_size=0.3,random_state= 0)\n",
    "\n",
    "clf = LDA()\n",
    "\n",
    "\n",
    "clf.fit(xSplit_Train,numpy.array(ySplit_Train).reshape(numpy.array(ySplit_Train).size))\n",
    "ySplit_pred = clf.predict(xSplit_Test)\n",
    "# why functions accuracy does not work\n",
    "\n",
    "# accuracy = functions.getAccuracy(ySplit_pred,ySplit_Test)\n",
    "expected_Reshaped = numpy.array(ySplit_Test).reshape(ySplit_Test.size)\n",
    "test = numpy.array(expected_Reshaped == numpy.array(ySplit_pred)).sum()\n",
    "accuracy  = test /expected_Reshaped.size *100\n",
    "\n",
    "print(accuracy)\n",
    "\n",
    "\n",
    "# definitive test\n",
    "yDef_pred = clf.predict(xTest)\n",
    "expected_Reshaped = numpy.array(yTest).reshape(yTest.size)\n",
    "test = numpy.array(expected_Reshaped == numpy.array(yDef_pred)).sum()\n",
    "accuracy  = test /expected_Reshaped.size *100\n",
    "print(accuracy)\n",
    "\n",
    "\n"
   ]
  },
  {
   "cell_type": "code",
   "execution_count": 22,
   "metadata": {},
   "outputs": [
    {
     "name": "stdout",
     "output_type": "stream",
     "text": [
      "77.67441860465117\n",
      "74.92447129909365\n"
     ]
    }
   ],
   "source": [
    "#QDA\n",
    "from sklearn.discriminant_analysis import QuadraticDiscriminantAnalysis as QDA\n",
    "from sklearn.model_selection import train_test_split as ttt\n",
    "import numpy\n",
    "xSplit_Train,xSplit_Test,ySplit_Train,ySplit_Test = ttt(xTrain,yTrain,test_size=0.3,random_state= 0)\n",
    "\n",
    "clf = QDA()\n",
    "\n",
    "\n",
    "clf.fit(xSplit_Train,numpy.array(ySplit_Train).reshape(numpy.array(ySplit_Train).size))\n",
    "ySplit_pred = clf.predict(xSplit_Test)\n",
    "# why functions accuracy does not work\n",
    "\n",
    "# accuracy = functions.getAccuracy(ySplit_pred,ySplit_Test)\n",
    "expected_Reshaped = numpy.array(ySplit_Test).reshape(ySplit_Test.size)\n",
    "test = numpy.array(expected_Reshaped == numpy.array(ySplit_pred)).sum()\n",
    "accuracy  = test /expected_Reshaped.size *100\n",
    "\n",
    "print(accuracy)\n",
    "\n",
    "\n",
    "# definitive test\n",
    "yDef_pred = clf.predict(xTest)\n",
    "expected_Reshaped = numpy.array(yTest).reshape(yTest.size)\n",
    "test = numpy.array(expected_Reshaped == numpy.array(yDef_pred)).sum()\n",
    "accuracy  = test /expected_Reshaped.size *100\n",
    "print(accuracy)\n",
    "\n",
    "\n"
   ]
  }
 ],
 "metadata": {
  "interpreter": {
   "hash": "15abced4188db35c83b661c0f4def9b023fcfdcf8f2071ac5896473ee4691a96"
  },
  "kernelspec": {
   "display_name": "Python 3.9.4 64-bit ('venv': venv)",
   "name": "python3"
  },
  "language_info": {
   "codemirror_mode": {
    "name": "ipython",
    "version": 3
   },
   "file_extension": ".py",
   "mimetype": "text/x-python",
   "name": "python",
   "nbconvert_exporter": "python",
   "pygments_lexer": "ipython3",
   "version": "3.9.4"
  },
  "orig_nbformat": 4
 },
 "nbformat": 4,
 "nbformat_minor": 2
}

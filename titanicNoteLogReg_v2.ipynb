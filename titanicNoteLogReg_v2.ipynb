{
 "cells": [
  {
   "cell_type": "code",
   "execution_count": null,
   "source": [
    "# import everything important so far\r\n",
    "import pandas as pd\r\n",
    "\r\n",
    "# first we get the data\r\n",
    "testPath = \"Data/test.csv\"\r\n",
    "trainPath = \"Data/train.csv\"\r\n",
    "genderSubmissionPath = \"Data/gender_submission.csv\"\r\n",
    "\r\n",
    "testPDRaw = pd.read_csv(testPath)\r\n",
    "trainPDRaw = pd.read_csv(trainPath)\r\n",
    "genderSubPDRaw = pd.read_csv(genderSubmissionPath)\r\n"
   ],
   "outputs": [],
   "metadata": {}
  },
  {
   "cell_type": "code",
   "execution_count": null,
   "source": [
    "# get the features and separate them into x an y\r\n",
    "features = []\r\n",
    "for  cols in trainPDRaw.columns:\r\n",
    "    # features[index]= cols\r\n",
    "    if cols != \"Survived\":\r\n",
    "        features.append(cols)\r\n",
    "\r\n",
    "# merge the test data too\r\n",
    "testDataMerge= pd.merge(genderSubPDRaw,testPDRaw,on = 'PassengerId')"
   ],
   "outputs": [],
   "metadata": {}
  },
  {
   "cell_type": "code",
   "execution_count": null,
   "source": [
    "# start cleaning the data, the cleaning should be done on test and train data\r\n",
    "# sex variable\r\n",
    "trainPDRaw['Sex'].replace({'female':'0','male':'1'},inplace=True)\r\n",
    "trainPDRaw['Sex'] = pd.to_numeric(trainPDRaw['Sex'])\r\n",
    "\r\n",
    "testDataMerge['Sex'].replace({'female':'0','male':'1'},inplace=True)\r\n",
    "testDataMerge['Sex'] = pd.to_numeric(testDataMerge['Sex'])\r\n",
    "\r\n",
    "# age variable\r\n",
    "trainPDRaw.dropna(subset=['Age'],inplace=True) \r\n",
    "testDataMerge.dropna(subset=['Age'],inplace=True) \r\n",
    "\r\n",
    "# fare variable for the test\r\n",
    "testDataMerge.dropna(subset=['Fare'],inplace=True) \r\n",
    "\r\n",
    "# we choose the data we want, then we proceed to modificate further\r\n",
    "featuresChosen = ['PassengerId','Pclass','Sex','Age','SibSp','Parch','Fare']\r\n",
    "\r\n",
    "xTrain = trainPDRaw.loc[:,featuresChosen]\r\n",
    "yTrain = trainPDRaw.loc[:,['Survived']]\r\n",
    "\r\n",
    "xTest =  testDataMerge.loc[:,featuresChosen]\r\n",
    "yTest = testDataMerge.loc[:,['Survived']]"
   ],
   "outputs": [],
   "metadata": {}
  },
  {
   "cell_type": "code",
   "execution_count": null,
   "source": [
    "# we preprare the model\r\n",
    "# import necessary stuff\r\n",
    "import numpy\r\n",
    "from sklearn.linear_model import LogisticRegression as LR\r\n",
    "from sklearn.model_selection import train_test_split as ttt\r\n",
    "\r\n",
    "x_Train,x_Test,y_Train,y_Test = ttt(xTrain,yTrain,test_size=0.3,random_state= 0)\r\n"
   ],
   "outputs": [],
   "metadata": {}
  },
  {
   "cell_type": "code",
   "execution_count": null,
   "source": [
    "logreg =LR(solver='lbfgs', max_iter=1000)\r\n",
    "y_Train_1D = numpy.array(y_Train).reshape(y_Train.size) # we need to reshape as there shoud a 1D vector \r\n",
    "logreg.fit(x_Train,y_Train_1D)\r\n",
    "y_pred2 =logreg.predict(x_Test)\r\n",
    "# print('Accuracy of logistic regression classifier on test set: {:.2f}'.format(logreg.score(x_Test, y_Test)))\r\n",
    "\r\n",
    "y_exp_reshaped = numpy.array(y_Test).reshape(y_Test.size)\r\n",
    "valuesTrueSum = numpy.array(y_exp_reshaped == numpy.array(y_pred2)).sum()\r\n",
    "accuracy  = valuesTrueSum /y_exp_reshaped.size *100\r\n",
    "\r\n",
    "\r\n",
    "print(\"Accuracy of train: \",accuracy)\r\n",
    "\r\n",
    "\r\n",
    "# accuracy = numpy.array(y_Test).reshape(y_Test.size) == numpy.array(y_pred)"
   ],
   "outputs": [],
   "metadata": {}
  },
  {
   "cell_type": "code",
   "execution_count": null,
   "source": [
    "# try with the test data\r\n",
    "y_predTest =logreg.predict(xTest)\r\n",
    "y_exp_reshaped_Test = numpy.array(yTest).reshape(yTest.size)\r\n",
    "valuesTrueSumTest = numpy.array(y_exp_reshaped_Test == numpy.array(y_predTest)).sum()\r\n",
    "accuracyTest  = valuesTrueSumTest /y_exp_reshaped_Test.size *100\r\n",
    "\r\n",
    "\r\n",
    "print(\"Accuracy of test: \",accuracyTest)"
   ],
   "outputs": [],
   "metadata": {}
  }
 ],
 "metadata": {
  "orig_nbformat": 4,
  "language_info": {
   "name": "python",
   "version": "3.9.4",
   "mimetype": "text/x-python",
   "codemirror_mode": {
    "name": "ipython",
    "version": 3
   },
   "pygments_lexer": "ipython3",
   "nbconvert_exporter": "python",
   "file_extension": ".py"
  },
  "kernelspec": {
   "name": "python3",
   "display_name": "Python 3.9.4 64-bit ('venv': venv)"
  },
  "interpreter": {
   "hash": "15abced4188db35c83b661c0f4def9b023fcfdcf8f2071ac5896473ee4691a96"
  }
 },
 "nbformat": 4,
 "nbformat_minor": 2
}
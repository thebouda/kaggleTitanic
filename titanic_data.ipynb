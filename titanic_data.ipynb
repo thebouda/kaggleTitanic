{
 "cells": [
  {
   "cell_type": "code",
   "execution_count": 16,
   "metadata": {},
   "outputs": [],
   "source": [
    "# get the data\n",
    "import pandas as pd\n",
    "from sklearn.model_selection import train_test_split as ttt\n",
    "\n",
    "# first we get the data\n",
    "testPath = \"Data/test.csv\"\n",
    "trainPath = \"Data/train.csv\"\n",
    "genderSubmissionPath = \"Data/gender_submission.csv\"\n",
    "\n",
    "testPDRaw = pd.read_csv(testPath)\n",
    "trainPDRaw = pd.read_csv(trainPath)\n",
    "genderSubPDRaw = pd.read_csv(genderSubmissionPath)\n",
    "\n",
    "# merge the test data too\n",
    "testDataMerge= pd.merge(genderSubPDRaw,testPDRaw,on = 'PassengerId')\n"
   ]
  },
  {
   "cell_type": "code",
   "execution_count": 17,
   "metadata": {},
   "outputs": [],
   "source": [
    "# merge test and train data in order to do the same changes\n",
    "combine = [trainPDRaw,testPDRaw]\n",
    "# unuseful data might be the passanger ticket\n",
    "# remove passanger ticket\n",
    "for dataset in combine:\n",
    "    dataset.drop( columns= ['Ticket'], inplace = True)\n"
   ]
  },
  {
   "cell_type": "code",
   "execution_count": null,
   "metadata": {},
   "outputs": [],
   "source": [
    "# considering the names we could reduce it Mr, Mrs, Miss, Col, Master to make it easier\n",
    "for dataset in combine:\n",
    "    dataset['Title'] = dataset.Name.str.extract(' ([A-Za-z]+)\\.', expand=False)\n",
    "\n"
   ]
  },
  {
   "cell_type": "code",
   "execution_count": 31,
   "metadata": {},
   "outputs": [
    {
     "data": {
      "text/html": [
       "<div>\n",
       "<style scoped>\n",
       "    .dataframe tbody tr th:only-of-type {\n",
       "        vertical-align: middle;\n",
       "    }\n",
       "\n",
       "    .dataframe tbody tr th {\n",
       "        vertical-align: top;\n",
       "    }\n",
       "\n",
       "    .dataframe thead th {\n",
       "        text-align: right;\n",
       "    }\n",
       "</style>\n",
       "<table border=\"1\" class=\"dataframe\">\n",
       "  <thead>\n",
       "    <tr style=\"text-align: right;\">\n",
       "      <th>Sex</th>\n",
       "      <th>female</th>\n",
       "      <th>male</th>\n",
       "    </tr>\n",
       "    <tr>\n",
       "      <th>Title</th>\n",
       "      <th></th>\n",
       "      <th></th>\n",
       "    </tr>\n",
       "  </thead>\n",
       "  <tbody>\n",
       "    <tr>\n",
       "      <th>Master</th>\n",
       "      <td>0</td>\n",
       "      <td>40</td>\n",
       "    </tr>\n",
       "    <tr>\n",
       "      <th>Miss</th>\n",
       "      <td>186</td>\n",
       "      <td>0</td>\n",
       "    </tr>\n",
       "    <tr>\n",
       "      <th>Mr</th>\n",
       "      <td>0</td>\n",
       "      <td>517</td>\n",
       "    </tr>\n",
       "    <tr>\n",
       "      <th>Mrs</th>\n",
       "      <td>125</td>\n",
       "      <td>0</td>\n",
       "    </tr>\n",
       "    <tr>\n",
       "      <th>Rare</th>\n",
       "      <td>3</td>\n",
       "      <td>20</td>\n",
       "    </tr>\n",
       "  </tbody>\n",
       "</table>\n",
       "</div>"
      ],
      "text/plain": [
       "Sex     female  male\n",
       "Title               \n",
       "Master       0    40\n",
       "Miss       186     0\n",
       "Mr           0   517\n",
       "Mrs        125     0\n",
       "Rare         3    20"
      ]
     },
     "execution_count": 31,
     "metadata": {},
     "output_type": "execute_result"
    }
   ],
   "source": [
    "# pd.crosstab(trainPDRaw.Title,trainPDRaw.Survived)\n",
    "# we replace: mlle and Ms by miss, \n",
    "for dataset in combine:\n",
    "    dataset.Title.replace('Ms', 'Miss', inplace = True)\n",
    "    dataset.Title.replace('Mme', 'Miss', inplace = True)\n",
    "    dataset.Title.replace(['Capt','Col','Countess','Don','Dr','Jonkheer','Major','Lady','Rev','Sir'], 'Rare', inplace = True)\n",
    "\n",
    "pd.crosstab(trainPDRaw.Title, trainPDRaw.Sex)\n",
    "# print(testPDRaw.head)"
   ]
  },
  {
   "cell_type": "code",
   "execution_count": null,
   "metadata": {},
   "outputs": [],
   "source": [
    "# see where are we at\n",
    "# now that we have modified the name into title we drop the name column\n",
    "\n",
    "for data in combine:\n",
    "    data.drop(columns= ['Name'], inplace = True)"
   ]
  },
  {
   "cell_type": "code",
   "execution_count": null,
   "metadata": {},
   "outputs": [],
   "source": [
    "# we replace male and female by 1 and 0\n",
    "for data in combine:\n",
    "    data.Sex.replace('female', '1',inplace=True)\n",
    "    data.Sex.replace('male','0', inplace =True)\n",
    "    "
   ]
  },
  {
   "cell_type": "code",
   "execution_count": 42,
   "metadata": {},
   "outputs": [
    {
     "data": {
      "text/plain": [
       "count    891.000000\n",
       "mean      32.204208\n",
       "std       49.693429\n",
       "min        0.000000\n",
       "25%        7.910400\n",
       "50%       14.454200\n",
       "75%       31.000000\n",
       "max      512.329200\n",
       "Name: Fare, dtype: float64"
      ]
     },
     "execution_count": 42,
     "metadata": {},
     "output_type": "execute_result"
    }
   ],
   "source": [
    "# we raw the histogram for the fares\n",
    "import matplotlib.pyplot as plt\n",
    "\n",
    "# plt.hist(combine[0].Fare)\n",
    "combine[0].Fare.describe()"
   ]
  },
  {
   "cell_type": "code",
   "execution_count": null,
   "metadata": {},
   "outputs": [],
   "source": []
  }
 ],
 "metadata": {
  "interpreter": {
   "hash": "15abced4188db35c83b661c0f4def9b023fcfdcf8f2071ac5896473ee4691a96"
  },
  "kernelspec": {
   "display_name": "Python 3.9.4 64-bit ('venv': venv)",
   "name": "python3"
  },
  "language_info": {
   "codemirror_mode": {
    "name": "ipython",
    "version": 3
   },
   "file_extension": ".py",
   "mimetype": "text/x-python",
   "name": "python",
   "nbconvert_exporter": "python",
   "pygments_lexer": "ipython3",
   "version": "3.9.4"
  },
  "orig_nbformat": 4
 },
 "nbformat": 4,
 "nbformat_minor": 2
}
